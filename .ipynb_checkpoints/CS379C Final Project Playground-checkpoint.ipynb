{
 "cells": [
  {
   "cell_type": "markdown",
   "metadata": {},
   "source": [
    "### The Persistence of Memory\n",
    "Author: catwong@stanford.edu; Date: May 16, 2018\n",
    "\n",
    "Project goals: model hippocampal memory trace formation as preserving neural network activations in response to inputs, and consolidation as increasing sparsity in the stored representations.\n",
    "\n",
    "- Task 1: do simple, PCA-based sparse representations of CNN layers lead to valid predictions?\n",
    "- Task 2: do increasingly sparse representations correlate with the empirical features of perceptual gists?\n",
    "- Task 3: can training on sparse CNN gradients, especially within more semantic layers, yield meaningful updates? Can it lead to faster and more generalized learning (ie. in a one-shot scenario)? Can it avoid catastrophic interference?\n",
    "\n"
   ]
  },
  {
   "cell_type": "markdown",
   "metadata": {},
   "source": [
    "# Model Import"
   ]
  },
  {
   "cell_type": "code",
   "execution_count": 34,
   "metadata": {},
   "outputs": [
    {
     "name": "stdout",
     "output_type": "stream",
     "text": [
      "env: CUDA_DEVICE_ORDER=PCI_BUS_ID\n",
      "env: CUDA_VISIBLE_DEVICES=0\n",
      "Use CUDA:True\n"
     ]
    }
   ],
   "source": [
    "from __future__ import division\n",
    "import os\n",
    "import torch\n",
    "import pandas as pd\n",
    "import torchvision\n",
    "import torch.nn as nn\n",
    "import torch.utils.model_zoo as model_zoo\n",
    "\n",
    "from skimage import io, transform, color\n",
    "import numpy as np\n",
    "import matplotlib.pyplot as plt\n",
    "from torch.utils.data import Dataset, DataLoader\n",
    "from torchvision import transforms, utils\n",
    "\n",
    "# Ignore warnings\n",
    "import warnings\n",
    "warnings.filterwarnings(\"ignore\")\n",
    "\n",
    "plt.ion()   # interactive mode\n",
    "ALEXNET_PATH = 'alexnet.pth'\n",
    "VAL_DIRECTORY_PATH = 'datasets/tiny-imagenet-200/val'\n",
    "CLASS_MAP_LABELS = 'datasets/tiny-imagenet-200/map_clsloc.txt'\n",
    "\n",
    "%env CUDA_DEVICE_ORDER=PCI_BUS_ID\n",
    "%env CUDA_VISIBLE_DEVICES=0\n",
    "\n",
    "use_cuda = torch.cuda.is_available()\n",
    "print \"Use CUDA:\" + str(use_cuda)"
   ]
  },
  {
   "cell_type": "code",
   "execution_count": 2,
   "metadata": {},
   "outputs": [],
   "source": [
    "class AlexNet(nn.Module):\n",
    "\n",
    "    def __init__(self, num_classes=1000):\n",
    "        super(AlexNet, self).__init__()\n",
    "        self.features = nn.Sequential(\n",
    "            nn.Conv2d(3, 64, kernel_size=11, stride=4, padding=2),\n",
    "            nn.ReLU(inplace=True),\n",
    "            nn.MaxPool2d(kernel_size=3, stride=2),\n",
    "            nn.Conv2d(64, 192, kernel_size=5, padding=2),\n",
    "            nn.ReLU(inplace=True),\n",
    "            nn.MaxPool2d(kernel_size=3, stride=2),\n",
    "            nn.Conv2d(192, 384, kernel_size=3, padding=1),\n",
    "            nn.ReLU(inplace=True),\n",
    "            nn.Conv2d(384, 256, kernel_size=3, padding=1),\n",
    "            nn.ReLU(inplace=True),\n",
    "            nn.Conv2d(256, 256, kernel_size=3, padding=1),\n",
    "            nn.ReLU(inplace=True),\n",
    "            nn.MaxPool2d(kernel_size=3, stride=2),\n",
    "        )\n",
    "        self.classifier = nn.Sequential(\n",
    "            nn.Dropout(),\n",
    "            nn.Linear(256 * 6 * 6, 4096),\n",
    "            nn.ReLU(inplace=True),\n",
    "            nn.Dropout(),\n",
    "            nn.Linear(4096, 4096),\n",
    "            nn.ReLU(inplace=True),\n",
    "            nn.Linear(4096, num_classes),\n",
    "        )\n",
    "\n",
    "    def forward(self, x):\n",
    "        x = self.features(x)\n",
    "        x = x.view(x.size(0), 256 * 6 * 6)\n",
    "        x = self.classifier(x)\n",
    "        return x\n"
   ]
  },
  {
   "cell_type": "code",
   "execution_count": 3,
   "metadata": {},
   "outputs": [],
   "source": [
    "def alexnet(pretrained=False, **kwargs):\n",
    "    r\"\"\"AlexNet model architecture from the\n",
    "    `\"One weird trick...\" <https://arxiv.org/abs/1404.5997>`_ paper.\n",
    "    Args:\n",
    "        pretrained (bool): If True, returns a model pre-trained on ImageNet\n",
    "    \"\"\"\n",
    "    model = AlexNet(**kwargs)\n",
    "    if pretrained:\n",
    "        model.load_state_dict(model_zoo.load_url(ALEXNET_PATH))\n",
    "    return model\n",
    "\n",
    "model = alexnet()"
   ]
  },
  {
   "cell_type": "markdown",
   "metadata": {},
   "source": [
    "## Utility Functions"
   ]
  },
  {
   "cell_type": "code",
   "execution_count": 50,
   "metadata": {},
   "outputs": [],
   "source": [
    "# Dataset cleanup: create an annotations file with imagenet classes, indices, and annotations\n",
    "def write_labeled_annotations_file(root_dir, raw_annotations_file, output_file):\n",
    "    class_labels = pd.read_csv(CLASS_MAP_LABELS, sep=' ', header=None)\n",
    "    raw_annotations = pd.read_csv(os.path.join(root_dir, raw_annotations_file), sep='\\t', header=None)\n",
    "    # Create map from class names to labels\n",
    "    labels_to_classes_map = {}\n",
    "    for i in range(len(class_labels)):\n",
    "        label, index, semantic = class_labels.iloc[i, 0], str(class_labels.iloc[i, 1] - 1), class_labels.iloc[i, 2]\n",
    "        labels_to_classes_map[label] = (index, semantic)\n",
    "    \n",
    "    # Remap the raw annotations file\n",
    "    with open(os.path.join(root_dir, output_file), 'w') as f:\n",
    "        for i in range(len(raw_annotations)):\n",
    "            image_file, label = raw_annotations.iloc[i, 0], raw_annotations.iloc[i, 1]\n",
    "            f.write(\"\\t\".join((image_file, labels_to_classes_map[label][0], label, labels_to_classes_map[label][1])) + \"\\n\")    \n",
    "\n",
    "    \n",
    "write_labeled_annotations_file(VAL_DIRECTORY_PATH, 'val_annotations.txt', 'annotations.txt')"
   ]
  },
  {
   "cell_type": "code",
   "execution_count": 39,
   "metadata": {},
   "outputs": [
    {
     "name": "stdout",
     "output_type": "stream",
     "text": [
      "Total images: 10000\n",
      "Index: 944 Label: n04371430 Semantic: swimming_trunks\n",
      "Size: (64, 64, 3)\n"
     ]
    },
    {
     "data": {
      "text/plain": [
       "<matplotlib.image.AxesImage at 0x7f9975d3fa50>"
      ]
     },
     "execution_count": 39,
     "metadata": {},
     "output_type": "execute_result"
    },
    {
     "data": {
      "image/png": "[encoded data removed]",
      "text/plain": [
       "<matplotlib.figure.Figure at 0x7f9975683150>"
      ]
     },
     "metadata": {},
     "output_type": "display_data"
    }
   ],
   "source": [
    "# Dataset\n",
    "class TinyImageNetDataset(Dataset):\n",
    "    def __init__(self, annotations_file, root_dir, transform=None):\n",
    "        \"\"\"\n",
    "        annotations_file: tab separated file with img_file, 1000-class index, ImageNet label, semantic-label \n",
    "        \"\"\"\n",
    "        self.annotations_file = pd.read_csv(os.path.join(root_dir, annotations_file), sep='\\t', header=None)\n",
    "        self.root_dir = root_dir\n",
    "        self.transform = transform\n",
    "    \n",
    "    def __len__(self):\n",
    "        return len(self.annotations_file)\n",
    "    \n",
    "    def __getitem__(self, idx):\n",
    "        img_name = os.path.join(self.root_dir, 'images',\n",
    "                                self.annotations_file.iloc[idx, 0])\n",
    "        image = io.imread(img_name)\n",
    "        if len(image.shape) == 2:\n",
    "            image = color.gray2rgb(image)\n",
    "        sample = {'image': image, \n",
    "                  'index': self.annotations_file.iloc[idx, 1], \n",
    "                  'label': self.annotations_file.iloc[idx, 2],\n",
    "                  'semantic': self.annotations_file.iloc[idx, 3]}\n",
    "        if self.transform:\n",
    "            sample = self.transform(sample)\n",
    "        return sample\n",
    "\n",
    "# Demo\n",
    "tiny_dataset = TinyImageNetDataset('annotations.txt', VAL_DIRECTORY_PATH)\n",
    "print \"Total images: \" + str(tiny_dataset.__len__())\n",
    "sample = tiny_dataset.__getitem__(10)\n",
    "print \"Index: %d Label: %s Semantic: %s\" % (sample['index'], sample['label'], sample['semantic'])\n",
    "print \"Size: \" + str(sample['image'].shape)\n",
    "plt.imshow(sample['image'])"
   ]
  },
  {
   "cell_type": "code",
   "execution_count": 41,
   "metadata": {},
   "outputs": [
    {
     "name": "stdout",
     "output_type": "stream",
     "text": [
      "(0, 4, 4)\n",
      "(1, 4, 4)\n",
      "(2, 4, 4)\n",
      "(3, 4, 4)\n",
      "(4, 4, 4)\n",
      "(5, 4, 4)\n",
      "(6, 4, 4)\n",
      "(7, 4, 4)\n",
      "(8, 4, 4)\n"
     ]
    }
   ],
   "source": [
    "# Dataloader Demo\n",
    "class Rescale(object):\n",
    "    \"\"\"Rescale the image in a sample to a given size.\n",
    "\n",
    "    Args:\n",
    "        output_size (tuple or int): Desired output size. If tuple, output is\n",
    "            matched to output_size. If int, smaller of image edges is matched\n",
    "            to output_size keeping aspect ratio the same.\n",
    "    \"\"\"\n",
    "\n",
    "    def __init__(self, output_size):\n",
    "        assert isinstance(output_size, (int, tuple))\n",
    "        self.output_size = output_size\n",
    "\n",
    "    def __call__(self, sample):\n",
    "        image, index, label, semantic = sample['image'], sample['index'], sample['label'], sample['semantic']\n",
    "\n",
    "        h, w = image.shape[:2]\n",
    "        if isinstance(self.output_size, int):\n",
    "            if h > w:\n",
    "                new_h, new_w = self.output_size * h / w, self.output_size\n",
    "            else:\n",
    "                new_h, new_w = self.output_size, self.output_size * w / h\n",
    "        else:\n",
    "            new_h, new_w = self.output_size\n",
    "\n",
    "        new_h, new_w = int(new_h), int(new_w)\n",
    "\n",
    "        img = transform.resize(image, (new_h, new_w))\n",
    "\n",
    "        return {'image': img, 'index': index, 'label': label, 'semantic': semantic}\n",
    "\n",
    "class ToTensor(object):\n",
    "    \"\"\"Convert ndarrays in sample to Tensors.\"\"\"\n",
    "\n",
    "    def __call__(self, sample):\n",
    "        image, index, label, semantic = sample['image'], sample['index'], sample['label'], sample['semantic']\n",
    "        # swap color axis because\n",
    "        # numpy image: H x W x C\n",
    "        # torch image: C X H X W\n",
    "        image = image.transpose((2, 0, 1))\n",
    "        return {'image': torch.from_numpy(image),\n",
    "                'index': index, 'label': label, 'semantic': semantic}\n",
    "\n",
    "def get_tiny_dataloader(annotations_file='annotations.txt', \n",
    "                        root_dir=VAL_DIRECTORY_PATH, \n",
    "                        batch_size=4,\n",
    "                        num_workers=1):\n",
    "\n",
    "    val_loader = DataLoader(\n",
    "        TinyImageNetDataset(annotations_file, root_dir, transforms.Compose([\n",
    "            Rescale(256),\n",
    "            ToTensor(),\n",
    "        ])),\n",
    "        batch_size=batch_size, shuffle=False,\n",
    "        num_workers=num_workers, pin_memory=True)\n",
    "    return val_loader\n",
    "\n",
    "\n",
    "tiny_dataloader = get_tiny_dataloader()\n",
    "\n",
    "for i_batch, sample_batched in enumerate(tiny_dataloader):\n",
    "    print(i_batch, len(sample_batched['image']), len(sample_batched['semantic']))\n",
    "    if i_batch > 7:\n",
    "        break\n",
    "        \n",
    "     \n",
    "        "
   ]
  },
  {
   "cell_type": "markdown",
   "metadata": {},
   "source": [
    "## Task 1: Sparsity for Image Predictions"
   ]
  },
  {
   "cell_type": "code",
   "execution_count": 12,
   "metadata": {},
   "outputs": [],
   "source": [
    "## Demo: AlexNet forward pass on images.\n"
   ]
  },
  {
   "cell_type": "code",
   "execution_count": null,
   "metadata": {},
   "outputs": [],
   "source": []
  }
 ],
 "metadata": {
  "kernelspec": {
   "display_name": "Python 2",
   "language": "python",
   "name": "python2"
  },
  "language_info": {
   "codemirror_mode": {
    "name": "ipython",
    "version": 2
   },
   "file_extension": ".py",
   "mimetype": "text/x-python",
   "name": "python",
   "nbconvert_exporter": "python",
   "pygments_lexer": "ipython2",
   "version": "2.7.6"
  }
 },
 "nbformat": 4,
 "nbformat_minor": 1
}
